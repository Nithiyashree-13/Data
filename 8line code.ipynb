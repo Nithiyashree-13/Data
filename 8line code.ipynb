{
 "cells": [
  {
   "cell_type": "code",
   "execution_count": 4,
   "id": "a073bfc4",
   "metadata": {},
   "outputs": [
    {
     "ename": "ModuleNotFoundError",
     "evalue": "No module named 'face_recognition'",
     "output_type": "error",
     "traceback": [
      "\u001b[1;31m---------------------------------------------------------------------------\u001b[0m",
      "\u001b[1;31mModuleNotFoundError\u001b[0m                       Traceback (most recent call last)",
      "Cell \u001b[1;32mIn[4], line 1\u001b[0m\n\u001b[1;32m----> 1\u001b[0m \u001b[38;5;28;01mimport\u001b[39;00m \u001b[38;5;21;01mface_recognition\u001b[39;00m\n\u001b[0;32m      2\u001b[0m face_locations \u001b[38;5;241m=\u001b[39m face_recogni\u001b[38;5;241m|\u001b[39mtion\u001b[38;5;241m.\u001b[39mface_locations(image)\n\u001b[0;32m      3\u001b[0m top, right, bottom, left \u001b[38;5;241m=\u001b[39m face_locations[\u001b[38;5;241m0\u001b[39m]\n",
      "\u001b[1;31mModuleNotFoundError\u001b[0m: No module named 'face_recognition'"
     ]
    }
   ],
   "source": [
    "import face_recognition\n",
    "face_locations = face_recogni|tion.face_locations(image)\n",
    "top, right, bottom, left = face_locations[0]\n",
    "face_image = image[top:bottom, left:right]"
   ]
  },
  {
   "cell_type": "code",
   "execution_count": null,
   "id": "2c5c4aa6",
   "metadata": {},
   "outputs": [],
   "source": [
    "encoding_1 = face_recognition.face_encodings(image1)[0]\n",
    "\n",
    "encoding_2 = face_recognition.face_encodings(image1)[0]\n",
    "\n",
    "results = face_recognition.compare_faces([encoding_1], encoding_2,tolerance=0.50)"
   ]
  },
  {
   "cell_type": "code",
   "execution_count": null,
   "id": "80d40537",
   "metadata": {},
   "outputs": [],
   "source": [
    "model = load_model(\"./emotion_detector_models/model.hdf5\")\n",
    "predicted_class = np.argmax(model.predict(face_image)"
   ]
  }
 ],
 "metadata": {
  "kernelspec": {
   "display_name": "Python 3 (ipykernel)",
   "language": "python",
   "name": "python3"
  },
  "language_info": {
   "codemirror_mode": {
    "name": "ipython",
    "version": 3
   },
   "file_extension": ".py",
   "mimetype": "text/x-python",
   "name": "python",
   "nbconvert_exporter": "python",
   "pygments_lexer": "ipython3",
   "version": "3.11.1"
  }
 },
 "nbformat": 4,
 "nbformat_minor": 5
}
